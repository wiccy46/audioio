{
 "cells": [
  {
   "cell_type": "markdown",
   "metadata": {},
   "source": [
    "Audioio is calss that helps users record and playback audio easily through PyAudio. The key functionalities:\n",
    "    * Easy to use interface to setup audio device for recording and playback\n",
    "    * Dealing with multichannels\n",
    "    * Optional GUI option to handle your recording\n",
    "    * Save audio function to .wav file\n",
    "    \n",
    "    "
   ]
  },
  {
   "cell_type": "code",
   "execution_count": 1,
   "metadata": {},
   "outputs": [],
   "source": [
    "from audioio import * "
   ]
  },
  {
   "cell_type": "code",
   "execution_count": 2,
   "metadata": {},
   "outputs": [],
   "source": [
    "aio = Audioio()"
   ]
  },
  {
   "cell_type": "code",
   "execution_count": 3,
   "metadata": {
    "scrolled": true
   },
   "outputs": [
    {
     "data": {
      "text/plain": [
       "Audio Server Info: sr: 44100, blocksize: 1024, Stream Active: False, \n",
       "            Input Device: Focusrite USB (Focusrite USB Au, Index: 1,\n",
       "            Output Device: Headphones (Soundcore Flare Ste, Index: 4"
      ]
     },
     "execution_count": 3,
     "metadata": {},
     "output_type": "execute_result"
    }
   ],
   "source": [
    "aio"
   ]
  },
  {
   "cell_type": "code",
   "execution_count": null,
   "metadata": {},
   "outputs": [],
   "source": []
  }
 ],
 "metadata": {
  "kernelspec": {
   "display_name": "Python 3",
   "language": "python",
   "name": "python3"
  },
  "language_info": {
   "codemirror_mode": {
    "name": "ipython",
    "version": 3
   },
   "file_extension": ".py",
   "mimetype": "text/x-python",
   "name": "python",
   "nbconvert_exporter": "python",
   "pygments_lexer": "ipython3",
   "version": "3.7.3"
  }
 },
 "nbformat": 4,
 "nbformat_minor": 2
}
